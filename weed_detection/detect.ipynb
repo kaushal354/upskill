{
 "cells": [
  {
   "cell_type": "code",
   "execution_count": 14,
   "id": "ed4a00c3-d0df-40d0-8d66-bad2110b4bb2",
   "metadata": {},
   "outputs": [],
   "source": [
    "# detect.py - Local YOLOv5 version (after git clone)\n",
    "import torch\n",
    "import cv2\n",
    "import streamlit as st\n",
    "from PIL import Image\n",
    "import numpy as np\n",
    "import sys\n",
    "import os"
   ]
  },
  {
   "cell_type": "code",
   "execution_count": 18,
   "id": "136cbd89-3158-4529-8dfd-ee7f54c486b6",
   "metadata": {},
   "outputs": [],
   "source": [
    "# Add local yolov5 path\n",
    "YOLO_PATH = os.path.join(os.getcwd(), \"yolov5\")\n",
    "sys.path.append(YOLO_PATH)"
   ]
  },
  {
   "cell_type": "code",
   "execution_count": 19,
   "id": "c5993338-6464-4f48-b5c9-8e95526ff18f",
   "metadata": {},
   "outputs": [],
   "source": [
    "# Import from YOLOv5\n",
    "from models.common import DetectMultiBackend\n",
    "from utils.general import non_max_suppression, check_img_size\n",
    "from utils.augmentations import letterbox\n",
    "from utils.plots import Annotator\n",
    "from utils.torch_utils import select_device"
   ]
  },
  {
   "cell_type": "code",
   "execution_count": 22,
   "id": "c5666fe2-4a7e-4018-a4a5-f0bbf2ba2b17",
   "metadata": {},
   "outputs": [
    {
     "name": "stderr",
     "output_type": "stream",
     "text": [
      "YOLOv5  2025-4-19 Python-3.10.0 torch-2.6.0+cpu CPU\n",
      "\n",
      "Downloading https://github.com/ultralytics/yolov5/releases/download/v7.0/yolov5s.pt to yolov5s.pt...\n",
      "100.0%\n",
      "\n",
      "Fusing layers... \n",
      "YOLOv5s summary: 213 layers, 7225885 parameters, 0 gradients, 16.4 GFLOPs\n"
     ]
    }
   ],
   "source": [
    "# Load model\n",
    "weights = 'yolov5s.pt'\n",
    "device = select_device('')\n",
    "model = DetectMultiBackend(weights, device=device)\n",
    "stride, names = model.stride, model.names\n",
    "imgsz = check_img_size((640, 640), s=stride)"
   ]
  },
  {
   "cell_type": "code",
   "execution_count": 23,
   "id": "d1bd7c51-1ad8-4eb0-9a67-47d53d5fa0a7",
   "metadata": {},
   "outputs": [
    {
     "name": "stderr",
     "output_type": "stream",
     "text": [
      "2025-04-19 10:40:11.618 WARNING streamlit.runtime.scriptrunner_utils.script_run_context: Thread 'MainThread': missing ScriptRunContext! This warning can be ignored when running in bare mode.\n",
      "2025-04-19 10:40:11.767 \n",
      "  \u001b[33m\u001b[1mWarning:\u001b[0m to view this Streamlit app on a browser, run it with the following\n",
      "  command:\n",
      "\n",
      "    streamlit run C:\\Users\\kaushal prasad\\AppData\\Local\\Programs\\Python\\Python310\\lib\\site-packages\\ipykernel_launcher.py [ARGUMENTS]\n",
      "2025-04-19 10:40:11.769 Thread 'MainThread': missing ScriptRunContext! This warning can be ignored when running in bare mode.\n",
      "2025-04-19 10:40:11.771 Thread 'MainThread': missing ScriptRunContext! This warning can be ignored when running in bare mode.\n",
      "2025-04-19 10:40:11.772 Thread 'MainThread': missing ScriptRunContext! This warning can be ignored when running in bare mode.\n"
     ]
    },
    {
     "data": {
      "text/plain": [
       "DeltaGenerator()"
      ]
     },
     "execution_count": 23,
     "metadata": {},
     "output_type": "execute_result"
    }
   ],
   "source": [
    "# Streamlit interface\n",
    "st.title(\"Crop & Weed Detection System\")\n",
    "st.markdown(\"Upload an image to detect crops and weeds using YOLOv5.\")\n"
   ]
  },
  {
   "cell_type": "code",
   "execution_count": 24,
   "id": "908ebaf8-457c-4618-9ea2-be4b6fb10e33",
   "metadata": {},
   "outputs": [
    {
     "name": "stderr",
     "output_type": "stream",
     "text": [
      "2025-04-19 10:40:23.466 Thread 'MainThread': missing ScriptRunContext! This warning can be ignored when running in bare mode.\n",
      "2025-04-19 10:40:23.466 Thread 'MainThread': missing ScriptRunContext! This warning can be ignored when running in bare mode.\n",
      "2025-04-19 10:40:23.469 Thread 'MainThread': missing ScriptRunContext! This warning can be ignored when running in bare mode.\n",
      "2025-04-19 10:40:23.471 Thread 'MainThread': missing ScriptRunContext! This warning can be ignored when running in bare mode.\n",
      "2025-04-19 10:40:23.472 Thread 'MainThread': missing ScriptRunContext! This warning can be ignored when running in bare mode.\n"
     ]
    }
   ],
   "source": [
    "uploaded_file = st.file_uploader(\"Choose an image...\", type=[\"jpg\", \"jpeg\", \"png\"])"
   ]
  },
  {
   "cell_type": "code",
   "execution_count": 25,
   "id": "656b8e3f-76da-4680-83ad-08e3ea530816",
   "metadata": {},
   "outputs": [],
   "source": [
    "if uploaded_file:\n",
    "    image = Image.open(uploaded_file).convert(\"RGB\")\n",
    "    img0 = np.array(image)\n",
    "\n",
    "    # Pre-process\n",
    "    img = letterbox(img0, imgsz, stride=stride, auto=True)[0]\n",
    "    img = img.transpose((2, 0, 1))[::-1]  # HWC to CHW\n",
    "    img = np.ascontiguousarray(img)\n",
    "\n",
    "    img_tensor = torch.from_numpy(img).to(device)\n",
    "    img_tensor = img_tensor.float() / 255.0\n",
    "    if img_tensor.ndimension() == 3:\n",
    "        img_tensor = img_tensor.unsqueeze(0)\n",
    "\n",
    "    # Inference\n",
    "    pred = model(img_tensor, augment=False, visualize=False)\n",
    "    pred = non_max_suppression(pred, 0.25, 0.45, agnostic=False)\n",
    "\n",
    "    # Annotate\n",
    "    for i, det in enumerate(pred):\n",
    "        annotator = Annotator(img0.copy(), line_width=2, example=str(names))\n",
    "        if len(det):\n",
    "            det[:, :4] = det[:, :4].round()\n",
    "            for *xyxy, conf, cls in reversed(det):\n",
    "                label = f'{names[int(cls)]} {conf:.2f}'\n",
    "                annotator.box_label(xyxy, label, color=(0, 255, 0))\n",
    "\n",
    "    st.image(annotator.result(), caption=\"Detection Result\", use_column_width=True)"
   ]
  },
  {
   "cell_type": "code",
   "execution_count": null,
   "id": "be1f8fee-a391-42cf-a5f4-5d298294462f",
   "metadata": {},
   "outputs": [],
   "source": []
  }
 ],
 "metadata": {
  "kernelspec": {
   "display_name": "Python 3 (ipykernel)",
   "language": "python",
   "name": "python3"
  },
  "language_info": {
   "codemirror_mode": {
    "name": "ipython",
    "version": 3
   },
   "file_extension": ".py",
   "mimetype": "text/x-python",
   "name": "python",
   "nbconvert_exporter": "python",
   "pygments_lexer": "ipython3",
   "version": "3.10.0"
  }
 },
 "nbformat": 4,
 "nbformat_minor": 5
}
