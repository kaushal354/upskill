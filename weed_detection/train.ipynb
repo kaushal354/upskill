{
 "cells": [
  {
   "cell_type": "code",
   "execution_count": 26,
   "id": "9701e16e-14a9-42a2-a37d-11fd6b9a9593",
   "metadata": {},
   "outputs": [],
   "source": [
    "# train.py\n",
    "# Script to train YOLOv5 model for crop and weed detection\n",
    "\n",
    "import os\n",
    "import torch\n",
    "\n",
    "\n"
   ]
  },
  {
   "cell_type": "code",
   "execution_count": 27,
   "id": "a0aae2c1-c79a-4e66-976a-8d81116c0e15",
   "metadata": {},
   "outputs": [],
   "source": [
    "# Clone YOLOv5 repo (run only once)\n",
    "if not os.path.exists(\"yolov5\"):\n",
    "    os.system(\"git clone https://github.com/ultralytics/yolov5\")\n",
    "\n"
   ]
  },
  {
   "cell_type": "code",
   "execution_count": 28,
   "id": "93979566-e0f3-40c0-93b4-c247542fa3c8",
   "metadata": {},
   "outputs": [
    {
     "data": {
      "text/plain": [
       "0"
      ]
     },
     "execution_count": 28,
     "metadata": {},
     "output_type": "execute_result"
    }
   ],
   "source": [
    "# Change directory\n",
    "os.chdir(\"yolov5\")\n",
    "\n",
    "# Install dependencies (run only once)\n",
    "os.system(\"pip install -r requirements.txt\")\n",
    "\n"
   ]
  },
  {
   "cell_type": "code",
   "execution_count": 29,
   "id": "4514ff78-3c8d-4012-8885-4c50e2567f86",
   "metadata": {},
   "outputs": [
    {
     "data": {
      "text/plain": [
       "1"
      ]
     },
     "execution_count": 29,
     "metadata": {},
     "output_type": "execute_result"
    }
   ],
   "source": [
    "# Define training parameters\n",
    "train_command = \"\"\"\n",
    "python train.py \\\n",
    "--img 640 \\\n",
    "--batch 16 \\\n",
    "--epochs 50 \\\n",
    "--data data/cropweed.yaml \\\n",
    "--cfg models/yolov5s.yaml \\\n",
    "--weights yolov5s.pt \\\n",
    "--name cropweed_yolov5s \\\n",
    "--cache\n",
    "\"\"\"\n",
    "\n",
    "# Train YOLOv5 model\n",
    "os.system(train_command)"
   ]
  },
  {
   "cell_type": "code",
   "execution_count": null,
   "id": "80d7faa7-7291-4586-b64c-ac8f872cf5ac",
   "metadata": {},
   "outputs": [],
   "source": []
  }
 ],
 "metadata": {
  "kernelspec": {
   "display_name": "Python 3 (ipykernel)",
   "language": "python",
   "name": "python3"
  },
  "language_info": {
   "codemirror_mode": {
    "name": "ipython",
    "version": 3
   },
   "file_extension": ".py",
   "mimetype": "text/x-python",
   "name": "python",
   "nbconvert_exporter": "python",
   "pygments_lexer": "ipython3",
   "version": "3.10.0"
  }
 },
 "nbformat": 4,
 "nbformat_minor": 5
}
