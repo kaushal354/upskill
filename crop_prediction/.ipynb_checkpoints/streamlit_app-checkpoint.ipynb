{
 "cells": [
  {
   "cell_type": "code",
   "execution_count": 18,
   "id": "5b2da0f6-38cb-4168-b5e8-9333a26ac9ac",
   "metadata": {},
   "outputs": [],
   "source": [
    "import streamlit as st\n",
    "import pandas as pd\n",
    "import joblib\n",
    "import numpy as np"
   ]
  },
  {
   "cell_type": "code",
   "execution_count": 20,
   "id": "02a47f2c-4e19-4baf-ac90-ad126d6428ce",
   "metadata": {},
   "outputs": [],
   "source": [
    "# Load trained model\n",
    "model = joblib.load(\"xgb_crop_model.pkl\")"
   ]
  },
  {
   "cell_type": "code",
   "execution_count": 21,
   "id": "59e122e1-bb38-4a47-ad56-88c6475e1e38",
   "metadata": {},
   "outputs": [
    {
     "name": "stderr",
     "output_type": "stream",
     "text": [
      "2025-04-19 10:10:29.210 WARNING streamlit.runtime.scriptrunner_utils.script_run_context: Thread 'MainThread': missing ScriptRunContext! This warning can be ignored when running in bare mode.\n",
      "2025-04-19 10:10:29.308 \n",
      "  \u001b[33m\u001b[1mWarning:\u001b[0m to view this Streamlit app on a browser, run it with the following\n",
      "  command:\n",
      "\n",
      "    streamlit run C:\\Users\\kaushal prasad\\AppData\\Local\\Programs\\Python\\Python310\\lib\\site-packages\\ipykernel_launcher.py [ARGUMENTS]\n",
      "2025-04-19 10:10:29.310 Thread 'MainThread': missing ScriptRunContext! This warning can be ignored when running in bare mode.\n",
      "2025-04-19 10:10:29.311 Thread 'MainThread': missing ScriptRunContext! This warning can be ignored when running in bare mode.\n",
      "2025-04-19 10:10:29.313 Thread 'MainThread': missing ScriptRunContext! This warning can be ignored when running in bare mode.\n"
     ]
    },
    {
     "data": {
      "text/plain": [
       "DeltaGenerator()"
      ]
     },
     "execution_count": 21,
     "metadata": {},
     "output_type": "execute_result"
    }
   ],
   "source": [
    "# Sample input form\n",
    "st.title(\"Agricultural Crop Production Prediction\")\n",
    "st.markdown(\"\"\"\n",
    "This app uses an XGBoost regression model to predict crop production based on cost and other parameters.\n",
    "\"\"\")"
   ]
  },
  {
   "cell_type": "code",
   "execution_count": 23,
   "id": "0e29b933-b683-490a-87ad-691bd1129869",
   "metadata": {},
   "outputs": [
    {
     "name": "stderr",
     "output_type": "stream",
     "text": [
      "2025-04-19 10:10:50.737 Thread 'MainThread': missing ScriptRunContext! This warning can be ignored when running in bare mode.\n",
      "2025-04-19 10:10:50.739 Thread 'MainThread': missing ScriptRunContext! This warning can be ignored when running in bare mode.\n",
      "2025-04-19 10:10:50.741 Thread 'MainThread': missing ScriptRunContext! This warning can be ignored when running in bare mode.\n",
      "2025-04-19 10:10:50.742 Thread 'MainThread': missing ScriptRunContext! This warning can be ignored when running in bare mode.\n",
      "2025-04-19 10:10:50.743 Session state does not function when running a script without `streamlit run`\n",
      "2025-04-19 10:10:50.744 Thread 'MainThread': missing ScriptRunContext! This warning can be ignored when running in bare mode.\n",
      "2025-04-19 10:10:50.747 Thread 'MainThread': missing ScriptRunContext! This warning can be ignored when running in bare mode.\n",
      "2025-04-19 10:10:50.748 Thread 'MainThread': missing ScriptRunContext! This warning can be ignored when running in bare mode.\n",
      "2025-04-19 10:10:50.749 Thread 'MainThread': missing ScriptRunContext! This warning can be ignored when running in bare mode.\n",
      "2025-04-19 10:10:50.750 Thread 'MainThread': missing ScriptRunContext! This warning can be ignored when running in bare mode.\n",
      "2025-04-19 10:10:50.752 Thread 'MainThread': missing ScriptRunContext! This warning can be ignored when running in bare mode.\n",
      "2025-04-19 10:10:50.752 Thread 'MainThread': missing ScriptRunContext! This warning can be ignored when running in bare mode.\n",
      "2025-04-19 10:10:50.754 Thread 'MainThread': missing ScriptRunContext! This warning can be ignored when running in bare mode.\n",
      "2025-04-19 10:10:50.755 Thread 'MainThread': missing ScriptRunContext! This warning can be ignored when running in bare mode.\n",
      "2025-04-19 10:10:50.756 Thread 'MainThread': missing ScriptRunContext! This warning can be ignored when running in bare mode.\n",
      "2025-04-19 10:10:50.757 Thread 'MainThread': missing ScriptRunContext! This warning can be ignored when running in bare mode.\n",
      "2025-04-19 10:10:50.758 Thread 'MainThread': missing ScriptRunContext! This warning can be ignored when running in bare mode.\n",
      "2025-04-19 10:10:50.759 Thread 'MainThread': missing ScriptRunContext! This warning can be ignored when running in bare mode.\n",
      "2025-04-19 10:10:50.761 Thread 'MainThread': missing ScriptRunContext! This warning can be ignored when running in bare mode.\n",
      "2025-04-19 10:10:50.762 Thread 'MainThread': missing ScriptRunContext! This warning can be ignored when running in bare mode.\n",
      "2025-04-19 10:10:50.763 Thread 'MainThread': missing ScriptRunContext! This warning can be ignored when running in bare mode.\n",
      "2025-04-19 10:10:50.764 Thread 'MainThread': missing ScriptRunContext! This warning can be ignored when running in bare mode.\n",
      "2025-04-19 10:10:50.766 Thread 'MainThread': missing ScriptRunContext! This warning can be ignored when running in bare mode.\n",
      "2025-04-19 10:10:50.768 Thread 'MainThread': missing ScriptRunContext! This warning can be ignored when running in bare mode.\n",
      "2025-04-19 10:10:50.768 Thread 'MainThread': missing ScriptRunContext! This warning can be ignored when running in bare mode.\n",
      "2025-04-19 10:10:50.771 Thread 'MainThread': missing ScriptRunContext! This warning can be ignored when running in bare mode.\n",
      "2025-04-19 10:10:50.772 Thread 'MainThread': missing ScriptRunContext! This warning can be ignored when running in bare mode.\n",
      "2025-04-19 10:10:50.773 Thread 'MainThread': missing ScriptRunContext! This warning can be ignored when running in bare mode.\n",
      "2025-04-19 10:10:50.774 Thread 'MainThread': missing ScriptRunContext! This warning can be ignored when running in bare mode.\n",
      "2025-04-19 10:10:50.775 Thread 'MainThread': missing ScriptRunContext! This warning can be ignored when running in bare mode.\n",
      "2025-04-19 10:10:50.776 Thread 'MainThread': missing ScriptRunContext! This warning can be ignored when running in bare mode.\n"
     ]
    }
   ],
   "source": [
    "# Simulated categorical options (these should match the one-hot encoded values used in training)\n",
    "states = ['Gujarat', 'Maharashtra', 'Punjab']  # Extend as needed\n",
    "crops = ['Wheat', 'Rice', 'Maize']\n",
    "varieties = ['Variety_A', 'Variety_B']\n",
    "state = st.selectbox(\"Select State\", states)\n",
    "crop = st.selectbox(\"Select Crop\", crops)\n",
    "variety = st.selectbox(\"Select Variety\", varieties)\n",
    "cost_a2fl = st.number_input(\"Cost of Cultivation (A2+FL)\", min_value=0.0)\n",
    "cost_c2 = st.number_input(\"Cost of Cultivation (C2)\", min_value=0.0)"
   ]
  },
  {
   "cell_type": "code",
   "execution_count": 24,
   "id": "3946b1f2-6de8-4974-8d20-23e5770682fa",
   "metadata": {},
   "outputs": [],
   "source": [
    "# Create input dataframe (must match training format)\n",
    "input_dict = {\n",
    "    'Cost of Cultivation (`/Hectare) A2+FL': [cost_a2fl],\n",
    "    'Cost of Cultivation (`/Hectare) C2': [cost_c2]\n",
    "}"
   ]
  },
  {
   "cell_type": "code",
   "execution_count": 25,
   "id": "fe448318-e59c-4222-b309-4401abc69985",
   "metadata": {},
   "outputs": [],
   "source": [
    "# Add one-hot encoded fields\n",
    "for s in states:\n",
    "    input_dict[f'State_{s}'] = [1 if s == state else 0]\n",
    "for c in crops:\n",
    "    input_dict[f'Crop_{c}'] = [1 if c == crop else 0]\n",
    "for v in varieties:\n",
    "    input_dict[f'Variety_{v}'] = [1 if v == variety else 0]\n",
    "\n",
    "input_df = pd.DataFrame(input_dict)"
   ]
  },
  {
   "cell_type": "code",
   "execution_count": 26,
   "id": "3214b999-8fcb-438f-872e-7b8e2614ff0a",
   "metadata": {},
   "outputs": [
    {
     "name": "stderr",
     "output_type": "stream",
     "text": [
      "2025-04-19 10:11:14.565 Thread 'MainThread': missing ScriptRunContext! This warning can be ignored when running in bare mode.\n",
      "2025-04-19 10:11:14.567 Thread 'MainThread': missing ScriptRunContext! This warning can be ignored when running in bare mode.\n",
      "2025-04-19 10:11:14.568 Thread 'MainThread': missing ScriptRunContext! This warning can be ignored when running in bare mode.\n",
      "2025-04-19 10:11:14.569 Thread 'MainThread': missing ScriptRunContext! This warning can be ignored when running in bare mode.\n",
      "2025-04-19 10:11:14.570 Thread 'MainThread': missing ScriptRunContext! This warning can be ignored when running in bare mode.\n"
     ]
    }
   ],
   "source": [
    "# Predict button\n",
    "if st.button(\"Predict Production\"):\n",
    "    prediction = model.predict(input_df)\n",
    "    st.success(f\"Predicted Crop Production: {prediction[0]:.2f} Quintals\")\n"
   ]
  },
  {
   "cell_type": "code",
   "execution_count": null,
   "id": "6b920b56-32be-496e-ad9f-8ec75e21cfa2",
   "metadata": {},
   "outputs": [],
   "source": []
  }
 ],
 "metadata": {
  "kernelspec": {
   "display_name": "Python 3 (ipykernel)",
   "language": "python",
   "name": "python3"
  },
  "language_info": {
   "codemirror_mode": {
    "name": "ipython",
    "version": 3
   },
   "file_extension": ".py",
   "mimetype": "text/x-python",
   "name": "python",
   "nbconvert_exporter": "python",
   "pygments_lexer": "ipython3",
   "version": "3.10.0"
  }
 },
 "nbformat": 4,
 "nbformat_minor": 5
}
